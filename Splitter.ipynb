# Mount Google Drive
from google.colab import drive
drive.mount('/content/drive')

# Import necessary libraries
import os
import shutil
from sklearn.model_selection import train_test_split

# Define paths for data manipulation
data_path = '/content/drive/My Drive/example_dataset/input_data'
train_path = '/content/drive/My Drive/example_dataset/train_data'
test_path = '/content/drive/My Drive/example_dataset/test_data'

# Ensure the existence of required folders, if not, create them
if not os.path.exists(train_path):
    os.makedirs(train_path)
if not os.path.exists(test_path):
    os.makedirs(test_path)

# Load image data
image_names = os.listdir(data_path)
# It's assumed that your data consists of image files and you aim to split them.
# Modify this part according to your actual data format if necessary.

# Split the data into train and test sets
train_names, test_names = train_test_split(image_names, test_size=0.2, random_state=42)

# Move the training data
for image_name in train_names:
    shutil.move(os.path.join(data_path, image_name), os.path.join(train_path, image_name))

# Move the test data
for image_name in test_names:
    shutil.move(os.path.join(data_path, image_name), os.path.join(test_path, image_name))
